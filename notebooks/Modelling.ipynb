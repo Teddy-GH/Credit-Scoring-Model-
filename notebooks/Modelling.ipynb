{
  "cells": [
    {
      "cell_type": "code",
      "execution_count": 2,
      "metadata": {
        "_cell_guid": "b1076dfc-b9ad-4769-8c92-a6c4dae69d19",
        "_uuid": "8f2839f25d086af736a60e9eeb907d3b93b6e0e5",
        "execution": {
          "iopub.execute_input": "2025-01-26T17:11:36.603634Z",
          "iopub.status.busy": "2025-01-26T17:11:36.603299Z",
          "iopub.status.idle": "2025-01-26T17:11:36.681476Z",
          "shell.execute_reply": "2025-01-26T17:11:36.68006Z",
          "shell.execute_reply.started": "2025-01-26T17:11:36.603602Z"
        },
        "id": "OTLxlv3jnsbQ",
        "trusted": true
      },
      "outputs": [],
      "source": [
        "import sys , os\n",
        "import pandas as pd\n",
        "import numpy as np"
      ]
    },
    {
      "cell_type": "code",
      "execution_count": 3,
      "metadata": {
        "id": "QmV5pxaMiIu8"
      },
      "outputs": [
        {
          "name": "stdout",
          "output_type": "stream",
          "text": [
            "2025-06-26 16:14:01,219 - INFO - Directory already exists: t:\\10-academy\\Week5\\Credit-Scoring-Model-\\data\n",
            "2025-06-26 16:14:01,220 - INFO - Directory already exists: t:\\10-academy\\Week5\\Credit-Scoring-Model-\\src\\../logs\n"
          ]
        }
      ],
      "source": [
        "sys.path.append(os.path.join(os.path.abspath('..')))\n",
        "# Import modules\n",
        "from src import data_loader as dl\n",
        "from scripts.Modelling import preprocess_data, split_the_data, define_hyperparameter_grids, perform_grid_search, evaluate_best_models, save_best_models"
      ]
    },
    {
      "cell_type": "markdown",
      "metadata": {
        "id": "XP7q_jbViIu-"
      },
      "source": [
        "## Step 1: Load Data"
      ]
    },
    {
      "cell_type": "code",
      "execution_count": 4,
      "metadata": {
        "colab": {
          "base_uri": "https://localhost:8080/",
          "height": 255
        },
        "id": "jSLMDjKriIvB",
        "outputId": "4a2091e5-e880-4916-e08c-cc6ddbbc9446"
      },
      "outputs": [
        {
          "name": "stdout",
          "output_type": "stream",
          "text": [
            "2025-06-26 16:14:04,205 - INFO - Attempting to load data from: t:\\10-academy\\Week5\\Credit-Scoring-Model-\\data\\../data/processed/transformed_data_credit_scoring.csv\n",
            "2025-06-26 16:14:04,684 - INFO - Successfully loaded data from: t:\\10-academy\\Week5\\Credit-Scoring-Model-\\data\\../data/processed/transformed_data_credit_scoring.csv\n"
          ]
        },
        {
          "data": {
            "text/html": [
              "<div>\n",
              "<style scoped>\n",
              "    .dataframe tbody tr th:only-of-type {\n",
              "        vertical-align: middle;\n",
              "    }\n",
              "\n",
              "    .dataframe tbody tr th {\n",
              "        vertical-align: top;\n",
              "    }\n",
              "\n",
              "    .dataframe thead th {\n",
              "        text-align: right;\n",
              "    }\n",
              "</style>\n",
              "<table border=\"1\" class=\"dataframe\">\n",
              "  <thead>\n",
              "    <tr style=\"text-align: right;\">\n",
              "      <th></th>\n",
              "      <th>TransactionId</th>\n",
              "      <th>BatchId</th>\n",
              "      <th>AccountId</th>\n",
              "      <th>SubscriptionId</th>\n",
              "      <th>CustomerId</th>\n",
              "      <th>CurrencyCode</th>\n",
              "      <th>CountryCode</th>\n",
              "      <th>ProviderId</th>\n",
              "      <th>ProductId</th>\n",
              "      <th>ProductCategory</th>\n",
              "      <th>...</th>\n",
              "      <th>RFMS_score_binned_WOE</th>\n",
              "      <th>ProviderId_WOE</th>\n",
              "      <th>ProviderId_WOE.1</th>\n",
              "      <th>ProductId_WOE</th>\n",
              "      <th>ProductId_WOE.1</th>\n",
              "      <th>ProductCategory_WOE</th>\n",
              "      <th>ProductCategory_WOE.1</th>\n",
              "      <th>ChannelId_ChannelId_2</th>\n",
              "      <th>ChannelId_ChannelId_3</th>\n",
              "      <th>ChannelId_ChannelId_5</th>\n",
              "    </tr>\n",
              "  </thead>\n",
              "  <tbody>\n",
              "    <tr>\n",
              "      <th>0</th>\n",
              "      <td>TransactionId_76871</td>\n",
              "      <td>BatchId_36123</td>\n",
              "      <td>AccountId_3957</td>\n",
              "      <td>SubscriptionId_887</td>\n",
              "      <td>CustomerId_4406</td>\n",
              "      <td>UGX</td>\n",
              "      <td>256</td>\n",
              "      <td>5</td>\n",
              "      <td>1</td>\n",
              "      <td>0</td>\n",
              "      <td>...</td>\n",
              "      <td>-0.071002</td>\n",
              "      <td>-0.413610</td>\n",
              "      <td>-0.413610</td>\n",
              "      <td>0.304295</td>\n",
              "      <td>0.304295</td>\n",
              "      <td>0.109343</td>\n",
              "      <td>0.109343</td>\n",
              "      <td>False</td>\n",
              "      <td>True</td>\n",
              "      <td>False</td>\n",
              "    </tr>\n",
              "    <tr>\n",
              "      <th>1</th>\n",
              "      <td>TransactionId_73770</td>\n",
              "      <td>BatchId_15642</td>\n",
              "      <td>AccountId_4841</td>\n",
              "      <td>SubscriptionId_3829</td>\n",
              "      <td>CustomerId_4406</td>\n",
              "      <td>UGX</td>\n",
              "      <td>256</td>\n",
              "      <td>3</td>\n",
              "      <td>19</td>\n",
              "      <td>2</td>\n",
              "      <td>...</td>\n",
              "      <td>-0.071002</td>\n",
              "      <td>0.118382</td>\n",
              "      <td>0.118382</td>\n",
              "      <td>-0.154972</td>\n",
              "      <td>-0.154972</td>\n",
              "      <td>-0.057930</td>\n",
              "      <td>-0.057930</td>\n",
              "      <td>True</td>\n",
              "      <td>False</td>\n",
              "      <td>False</td>\n",
              "    </tr>\n",
              "    <tr>\n",
              "      <th>2</th>\n",
              "      <td>TransactionId_26203</td>\n",
              "      <td>BatchId_53941</td>\n",
              "      <td>AccountId_4229</td>\n",
              "      <td>SubscriptionId_222</td>\n",
              "      <td>CustomerId_4683</td>\n",
              "      <td>UGX</td>\n",
              "      <td>256</td>\n",
              "      <td>5</td>\n",
              "      <td>0</td>\n",
              "      <td>0</td>\n",
              "      <td>...</td>\n",
              "      <td>-0.071002</td>\n",
              "      <td>-0.413610</td>\n",
              "      <td>-0.413610</td>\n",
              "      <td>0.214869</td>\n",
              "      <td>0.214869</td>\n",
              "      <td>0.109343</td>\n",
              "      <td>0.109343</td>\n",
              "      <td>False</td>\n",
              "      <td>True</td>\n",
              "      <td>False</td>\n",
              "    </tr>\n",
              "    <tr>\n",
              "      <th>3</th>\n",
              "      <td>TransactionId_380</td>\n",
              "      <td>BatchId_102363</td>\n",
              "      <td>AccountId_648</td>\n",
              "      <td>SubscriptionId_2185</td>\n",
              "      <td>CustomerId_988</td>\n",
              "      <td>UGX</td>\n",
              "      <td>256</td>\n",
              "      <td>0</td>\n",
              "      <td>11</td>\n",
              "      <td>8</td>\n",
              "      <td>...</td>\n",
              "      <td>-0.071002</td>\n",
              "      <td>0.481371</td>\n",
              "      <td>0.481371</td>\n",
              "      <td>-0.361181</td>\n",
              "      <td>-0.361181</td>\n",
              "      <td>-0.427382</td>\n",
              "      <td>-0.427382</td>\n",
              "      <td>False</td>\n",
              "      <td>True</td>\n",
              "      <td>False</td>\n",
              "    </tr>\n",
              "    <tr>\n",
              "      <th>4</th>\n",
              "      <td>TransactionId_28195</td>\n",
              "      <td>BatchId_38780</td>\n",
              "      <td>AccountId_4841</td>\n",
              "      <td>SubscriptionId_3829</td>\n",
              "      <td>CustomerId_988</td>\n",
              "      <td>UGX</td>\n",
              "      <td>256</td>\n",
              "      <td>3</td>\n",
              "      <td>19</td>\n",
              "      <td>2</td>\n",
              "      <td>...</td>\n",
              "      <td>-0.071002</td>\n",
              "      <td>0.118382</td>\n",
              "      <td>0.118382</td>\n",
              "      <td>-0.154972</td>\n",
              "      <td>-0.154972</td>\n",
              "      <td>-0.057930</td>\n",
              "      <td>-0.057930</td>\n",
              "      <td>True</td>\n",
              "      <td>False</td>\n",
              "      <td>False</td>\n",
              "    </tr>\n",
              "  </tbody>\n",
              "</table>\n",
              "<p>5 rows × 37 columns</p>\n",
              "</div>"
            ],
            "text/plain": [
              "         TransactionId         BatchId       AccountId       SubscriptionId  \\\n",
              "0  TransactionId_76871   BatchId_36123  AccountId_3957   SubscriptionId_887   \n",
              "1  TransactionId_73770   BatchId_15642  AccountId_4841  SubscriptionId_3829   \n",
              "2  TransactionId_26203   BatchId_53941  AccountId_4229   SubscriptionId_222   \n",
              "3    TransactionId_380  BatchId_102363   AccountId_648  SubscriptionId_2185   \n",
              "4  TransactionId_28195   BatchId_38780  AccountId_4841  SubscriptionId_3829   \n",
              "\n",
              "        CustomerId CurrencyCode  CountryCode  ProviderId  ProductId  \\\n",
              "0  CustomerId_4406          UGX          256           5          1   \n",
              "1  CustomerId_4406          UGX          256           3         19   \n",
              "2  CustomerId_4683          UGX          256           5          0   \n",
              "3   CustomerId_988          UGX          256           0         11   \n",
              "4   CustomerId_988          UGX          256           3         19   \n",
              "\n",
              "   ProductCategory  ...  RFMS_score_binned_WOE  ProviderId_WOE  \\\n",
              "0                0  ...              -0.071002       -0.413610   \n",
              "1                2  ...              -0.071002        0.118382   \n",
              "2                0  ...              -0.071002       -0.413610   \n",
              "3                8  ...              -0.071002        0.481371   \n",
              "4                2  ...              -0.071002        0.118382   \n",
              "\n",
              "  ProviderId_WOE.1  ProductId_WOE  ProductId_WOE.1  ProductCategory_WOE  \\\n",
              "0        -0.413610       0.304295         0.304295             0.109343   \n",
              "1         0.118382      -0.154972        -0.154972            -0.057930   \n",
              "2        -0.413610       0.214869         0.214869             0.109343   \n",
              "3         0.481371      -0.361181        -0.361181            -0.427382   \n",
              "4         0.118382      -0.154972        -0.154972            -0.057930   \n",
              "\n",
              "   ProductCategory_WOE.1  ChannelId_ChannelId_2  ChannelId_ChannelId_3  \\\n",
              "0               0.109343                  False                   True   \n",
              "1              -0.057930                   True                  False   \n",
              "2               0.109343                  False                   True   \n",
              "3              -0.427382                  False                   True   \n",
              "4              -0.057930                   True                  False   \n",
              "\n",
              "   ChannelId_ChannelId_5  \n",
              "0                  False  \n",
              "1                  False  \n",
              "2                  False  \n",
              "3                  False  \n",
              "4                  False  \n",
              "\n",
              "[5 rows x 37 columns]"
            ]
          },
          "execution_count": 4,
          "metadata": {},
          "output_type": "execute_result"
        }
      ],
      "source": [
        "#import data\n",
        "data = dl.load_data(\"../data/processed/transformed_data_credit_scoring.csv\")\n",
        "data.head()"
      ]
    },
    {
      "cell_type": "markdown",
      "metadata": {
        "id": "K8ux-twViIvC"
      },
      "source": [
        "## Step 2: Preprocess Data\n",
        "Data preprocessing is a critical step to prepare the raw data for modeling. This involves cleaning the data, handling missing values, encoding categorical variables, and extracting useful features."
      ]
    },
    {
      "cell_type": "code",
      "execution_count": 5,
      "metadata": {
        "colab": {
          "base_uri": "https://localhost:8080/",
          "height": 255
        },
        "id": "LLYLN4wPiIvC",
        "outputId": "defd59b5-8f6b-4031-e0a2-159dbf0edaf4"
      },
      "outputs": [
        {
          "name": "stdout",
          "output_type": "stream",
          "text": [
            "2025-06-26 16:14:08,022 - INFO - Starting data preprocessing\n",
            "2025-06-26 16:14:08,023 - INFO - Initial dataset shape: (95662, 37)\n",
            "2025-06-26 16:14:08,035 - INFO - Dropped columns: ['TransactionId', 'BatchId', 'AccountId', 'SubscriptionId', 'CustomerId']\n",
            "2025-06-26 16:14:08,072 - INFO - Encoding categorical columns: ['CurrencyCode', 'CountryCode', 'ProductId']\n",
            "2025-06-26 16:14:08,108 - INFO - Extracting datetime features from 'TransactionStartTime'\n",
            "2025-06-26 16:14:08,244 - INFO - Preprocessed dataset shape: (95662, 53)\n"
          ]
        }
      ],
      "source": [
        "# Preprocess the data using a predefined function\n",
        "data = preprocess_data(data)\n",
        "if data is not None:\n",
        "\tdata.head()\n",
        "else:\n",
        "\tprint(\"❌ Data is None. Please check the previous steps for errors.\")"
      ]
    },
    {
      "cell_type": "markdown",
      "metadata": {
        "id": "zcjaksfeiIvD"
      },
      "source": [
        "## Step 3: Split Data\n",
        "To evaluate the model's performance on unseen data, i split the preprocessed dataset into training and testing sets. Typically, this is done with an 80-20"
      ]
    },
    {
      "cell_type": "code",
      "execution_count": null,
      "metadata": {
        "colab": {
          "base_uri": "https://localhost:8080/"
        },
        "id": "OO9q2h9CiIvD",
        "outputId": "a5b3ac34-07a3-41ad-847d-6de1c604a1b5"
      },
      "outputs": [
        {
          "name": "stdout",
          "output_type": "stream",
          "text": [
            "❌ Data is None. Please check the previous steps for errors.\n"
          ]
        }
      ],
      "source": [
        "# Split the data into training and testing sets\n",
        "if data is not None:\n",
        "\tX_train, X_test, y_train, y_test = split_the_data(data)\n",
        "\tprint(f\"Training set shape: {X_train.shape}, Testing set shape: {X_test.shape}\")\n",
        "else:\n",
        "\tprint(\"❌ Data is None. Please check the previous steps for errors.\")"
      ]
    },
    {
      "cell_type": "markdown",
      "metadata": {
        "id": "Fl7oWcU4iIvE"
      },
      "source": [
        "## Step 4: Define Models and Hyperparameter Grids\n",
        "Here,define the machine learning models to be trained and their hyperparameter grids for tuning. Common models for credit scoring include Logistic Regression (simple and interpretable) and Random Forest (powerful for non-linear patterns)."
      ]
    },
    {
      "cell_type": "code",
      "execution_count": null,
      "metadata": {
        "id": "r2dukSokiIvE"
      },
      "outputs": [],
      "source": [
        "# Define the models and their hyperparameter grids\n",
        "models = define_models()\n",
        "param_grids = define_hyperparameter_grids()"
      ]
    },
    {
      "cell_type": "markdown",
      "metadata": {
        "id": "ARf5v-UHiIvF"
      },
      "source": [
        "## Step 5: Perform Grid Search\n",
        "Grid search is used to systematically test combinations of hyperparameters and find the best-performing configuration for each model. This step uses cross-validation to ensure robustness."
      ]
    },
    {
      "cell_type": "code",
      "execution_count": null,
      "metadata": {
        "colab": {
          "base_uri": "https://localhost:8080/"
        },
        "id": "l3DuGNIkiIvF",
        "outputId": "e5506754-8a88-4664-ee05-e29d8a460b90"
      },
      "outputs": [
        {
          "name": "stdout",
          "output_type": "stream",
          "text": [
            "❌ X_train and y_train are not defined. Please ensure data preprocessing and splitting steps are successful before running grid search.\n"
          ]
        }
      ],
      "source": [
        "# Perform grid search to optimize model hyperparameters\n",
        "best_models = perform_grid_search(models, param_grids, X_train, y_train)"
      ]
    },
    {
      "cell_type": "markdown",
      "metadata": {
        "id": "aL7hqOuwiIvG"
      },
      "source": [
        "## Step 6: Evaluate Best Models\n",
        "After tuning,  evaluate the best models on the test set to assess their real-world performance. Key metrics include accuracy, precision, recall, F1 score, and ROC-AUC, which are especially important for imbalanced datasets like credit scoring."
      ]
    },
    {
      "cell_type": "code",
      "execution_count": null,
      "metadata": {
        "colab": {
          "base_uri": "https://localhost:8080/"
        },
        "id": "aIA6rTIwiIvG",
        "outputId": "f2a9b6b4-540e-40ab-849f-b4709ce7bef3"
      },
      "outputs": [
        {
          "name": "stdout",
          "output_type": "stream",
          "text": [
            "❌ best_models is not defined. Please ensure grid search was successful before evaluation.\n"
          ]
        }
      ],
      "source": [
        "# Evaluate the best models on the test set\n",
        "results = evaluate_best_models(best_models, X_test, y_test, X_train, y_train)"
      ]
    },
    {
      "cell_type": "markdown",
      "metadata": {
        "id": "1jwIVHhViIvH"
      },
      "source": [
        "## Step 7: Save Best Models\n",
        "Finally, we save the tuned models to disk for future use, such as deployment in a production environment or further analysis."
      ]
    },
    {
      "cell_type": "code",
      "execution_count": null,
      "metadata": {
        "id": "sYFAYddiiIvH"
      },
      "outputs": [
        {
          "ename": "NameError",
          "evalue": "name 'best_models' is not defined",
          "output_type": "error",
          "traceback": [
            "\u001b[31m---------------------------------------------------------------------------\u001b[39m",
            "\u001b[31mNameError\u001b[39m                                 Traceback (most recent call last)",
            "\u001b[36mCell\u001b[39m\u001b[36m \u001b[39m\u001b[32mIn[80]\u001b[39m\u001b[32m, line 2\u001b[39m\n\u001b[32m      1\u001b[39m \u001b[38;5;66;03m# Save the best models to disk\u001b[39;00m\n\u001b[32m----> \u001b[39m\u001b[32m2\u001b[39m save_best_models(\u001b[43mbest_models\u001b[49m)\n",
            "\u001b[31mNameError\u001b[39m: name 'best_models' is not defined"
          ]
        }
      ],
      "source": [
        "# Save the best models to disk\n",
        "save_best_models(best_models)"
      ]
    }
  ],
  "metadata": {
    "accelerator": "GPU",
    "colab": {
      "gpuType": "T4",
      "provenance": []
    },
    "kaggle": {
      "accelerator": "none",
      "dataSources": [],
      "dockerImageVersionId": 30839,
      "isGpuEnabled": false,
      "isInternetEnabled": false,
      "language": "python",
      "sourceType": "notebook"
    },
    "kernelspec": {
      "display_name": "venv",
      "language": "python",
      "name": "python3"
    },
    "language_info": {
      "codemirror_mode": {
        "name": "ipython",
        "version": 3
      },
      "file_extension": ".py",
      "mimetype": "text/x-python",
      "name": "python",
      "nbconvert_exporter": "python",
      "pygments_lexer": "ipython3",
      "version": "3.13.3"
    }
  },
  "nbformat": 4,
  "nbformat_minor": 0
}
